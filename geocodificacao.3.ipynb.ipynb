{
  "nbformat": 4,
  "nbformat_minor": 0,
  "metadata": {
    "colab": {
      "name": "geocodificação_3.0.ipynb",
      "provenance": [],
      "collapsed_sections": [],
      "toc_visible": true
    },
    "kernelspec": {
      "name": "python3",
      "display_name": "Python 3"
    }
  },
  "cells": [
    {
      "cell_type": "markdown",
      "metadata": {
        "id": "X3uUkInfRnP1",
        "colab_type": "text"
      },
      "source": [
        "# Para executar este programa pressione Crtl+Enter dentro de cada célula do código ou clicando no símbolo ►."
      ]
    },
    {
      "cell_type": "markdown",
      "metadata": {
        "id": "DJQzoqGHQ9Yg",
        "colab_type": "text"
      },
      "source": [
        "**1. Apenas rodar. Em caso de várias geocodificações só é necessário rodar uma vez. (Importa e instala bibliotecas).**"
      ]
    },
    {
      "cell_type": "code",
      "metadata": {
        "id": "9i7D40JEA6NC",
        "colab_type": "code",
        "colab": {}
      },
      "source": [
        "!pip install geopandas \n",
        "!pip install geopy\n",
        "import geopandas as gpd\n",
        "import pandas as pd\n",
        "import geopy as gpy\n",
        "from tqdm import tqdm\n",
        "from geopy.extra.rate_limiter import RateLimiter"
      ],
      "execution_count": null,
      "outputs": []
    },
    {
      "cell_type": "markdown",
      "metadata": {
        "id": "YIUmP1srRVoX",
        "colab_type": "text"
      },
      "source": [
        "**2. Importar csv(; - utf-8). Clicar em browser, selecionar o arquivo, esperar o upload.(Importa csv delimitador por ';' com endereços).**"
      ]
    },
    {
      "cell_type": "code",
      "metadata": {
        "id": "2dmuXoFCBAjt",
        "colab_type": "code",
        "colab": {}
      },
      "source": [
        "from google.colab import files\n",
        "uploaded = files.upload()"
      ],
      "execution_count": null,
      "outputs": []
    },
    {
      "cell_type": "markdown",
      "metadata": {
        "id": "k84yh_POSmAW",
        "colab_type": "text"
      },
      "source": [
        "**3. Substituir ['exemplo.csv'] dentro de colchetes pelo nome do arquivo csv. Manter aspas e colchetes.(Armazena csv em variável).**"
      ]
    },
    {
      "cell_type": "code",
      "metadata": {
        "id": "PBMjfsCDBWYd",
        "colab_type": "code",
        "colab": {}
      },
      "source": [
        "import io\n",
        "x = pd.read_csv('exemplo.csv',sep=';')"
      ],
      "execution_count": 49,
      "outputs": []
    },
    {
      "cell_type": "markdown",
      "metadata": {
        "id": "xLRmgjN1T_WP",
        "colab_type": "text"
      },
      "source": [
        "**4. Substituir ['Endereco_completo'] dentro de colchetes pelo nome da coluna correspondente no arquivo csv.**"
      ]
    },
    {
      "cell_type": "markdown",
      "metadata": {
        "id": "-aHox0PhUuNP",
        "colab_type": "text"
      },
      "source": [
        "> obs.: Nesta etapa é feita a escolha de qual servidor será utilizado para geodificação. Este programa está pré-configurado para utilizar o HERE, o qual necessita de uma chave (API key) que pode ser obtida através de uma licença trial [clicando aqui](https://developer.here.com/). Substitua o 'app_id' e o 'app_code' no código pela api obtida. Para utilizar outros servidores confira as notas no final programa.\n",
        "\n",
        "\n",
        "\n",
        "\n",
        "\n",
        "\n"
      ]
    },
    {
      "cell_type": "code",
      "metadata": {
        "id": "R3zhW3hYEcUx",
        "colab_type": "code",
        "colab": {}
      },
      "source": [
        "from geopy.geocoders import Here\n",
        "geolocator = Here(user_agent='geoapp', timeout = 86400, app_id = 'pds9Pf6AI0F3FbVNRePx', app_code='UZs_DzoE6PAJwYE5ZUj4uw')#substituir app_id e app_code\n",
        "\n",
        "geocode = RateLimiter(geolocator.geocode, min_delay_seconds=1/20,max_retries = 100, error_wait_seconds=15)\n",
        "tqdm.pandas()\n",
        "#substiuir 'Endereco_completo' na linha abaixo pelo nome da coluna correspondente no arquivo csv original. \n",
        "x['ENCONTRADO'] = x['Endereco_completo'].progress_apply(geocode)\n",
        "x['PONTO'] = x['ENCONTRADO'].apply(lambda loc: tuple(loc.point) if loc else None)"
      ],
      "execution_count": null,
      "outputs": []
    },
    {
      "cell_type": "markdown",
      "metadata": {
        "id": "-tER3zAtafqQ",
        "colab_type": "text"
      },
      "source": [
        "**5. Apenas rodar ou substituir 'resultado.csv' pelo nome de arquivo de saída desejado. Para baixar o resultado da geocodificação clique símbolo de 'pasta' ao lado esquerdo. A coluna com as coordenadas será devolvida em formato wkt, podendo ser facilmente espacilizada em softwares como QGIS.** \n",
        "\n",
        " ![texto alternativo](https://uploaddeimagens.com.br/images/002/742/380/thumb/tempsnip.png?1593624873)\n",
        "\n",
        "**(Adiciona resultado da geocodificação na guia de arquivos ao lado esquerdo).**"
      ]
    },
    {
      "cell_type": "code",
      "metadata": {
        "id": "uY7trRfAFZOC",
        "colab_type": "code",
        "colab": {}
      },
      "source": [
        "#Defini a coluna chave-primária como primeira coluna, excluindo index padrão\n",
        "#caso sejam iniciadas mais de uma geocoficação sem fechar o navegar é necessário\n",
        "#excluir a primeira linha do código(linha abaixo).\n",
        "x.set_index('chave', inplace = True)\n",
        "x['geo_y'] = x['PONTO'].astype('str').apply(lambda x : x.replace('(',',').split(',')[1])\n",
        "x['geo_x'] = x['PONTO'].astype('str').apply(lambda x : x.replace('(',',').split(',')[2])\n",
        "x.drop('PONTO',axis=1,inplace=True)\n",
        "#substituir 'resultado.csv' na linha abaixo por nome de preferência.\n",
        "x.to_csv('resultado.csv',sep=';')"
      ],
      "execution_count": 51,
      "outputs": []
    }
  ]
}